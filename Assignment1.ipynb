{
 "cells": [
  {
   "cell_type": "markdown",
   "metadata": {},
   "source": [
    "# Assignment1Python\n",
    "\n",
    "\n",
    "### part 1 downloading useing code:\n",
    "### Download_script.py:"
   ]
  },
  {
   "cell_type": "raw",
   "metadata": {},
   "source": [
    "import webget\n",
    "import sys\n",
    "\n",
    "for url in sys.argv[1:]:\n",
    "    webget.download_2(url)\n"
   ]
  },
  {
   "cell_type": "markdown",
   "metadata": {},
   "source": [
    "### webget.py:"
   ]
  },
  {
   "cell_type": "raw",
   "metadata": {},
   "source": [
    "import os\n",
    "import urllib.request as req\n",
    "from urllib.parse import urlparse\n",
    "\n",
    "     \n",
    "def download_2(url):\n",
    "    filename = urlparse(url).path.split('/')[-1]\n",
    "    req.urlretrieve(url, filename)\n",
    "    print(filename + \" is downloaded\")"
   ]
  },
  {
   "cell_type": "markdown",
   "metadata": {},
   "source": [
    "Code in practice:\n",
    "This can take a some time."
   ]
  },
  {
   "cell_type": "code",
   "execution_count": null,
   "metadata": {},
   "outputs": [],
   "source": [
    "!python download_script.py http://www.gutenberg.org/files/2701/2701-0.txt http://www.gutenberg.org/cache/epub/27525/pg27525.txt\n",
    "  "
   ]
  },
  {
   "cell_type": "markdown",
   "metadata": {},
   "source": [
    "### Part 2 converting .xlsx to .csv "
   ]
  },
  {
   "cell_type": "code",
   "execution_count": null,
   "metadata": {
    "scrolled": true
   },
   "outputs": [],
   "source": [
    "import pandas as pd\n",
    "data_xls = pd.read_excel('iris_data.xlsx', index_col=None)\n",
    "data_xls.to_csv('iris_data.csv', encoding='utf-8')"
   ]
  },
  {
   "cell_type": "markdown",
   "metadata": {},
   "source": [
    "### Part 3 csv file to dictionary"
   ]
  },
  {
   "cell_type": "code",
   "execution_count": null,
   "metadata": {},
   "outputs": [],
   "source": [
    "import urllib.request as ur\n",
    "import csv\n",
    "import codecs\n",
    "from collections import defaultdict\n",
    "\n",
    "\n",
    "def provide_csv_statistics():\n",
    "  \n",
    "    csvfile = csv.reader(open('befkbhalderstatkode.csv'))\n",
    "    csv_header = next(csvfile)\n",
    "    dict_years = {}\n",
    "    dict_city = {}\n",
    "    dict_age = {}    \n",
    "    dict_complete = defaultdict(lambda: {})\n",
    "    \n",
    "    for line in csvfile:  \n",
    "        year = line[0]\n",
    "        city_part = line[1]\n",
    "        age = line[2]\n",
    "        vals = {line[3]:line[4]}        \n",
    "        \n",
    "        #city: set dict_city to current year \n",
    "        #!city: change in city_part val, add to n+1 dict\n",
    "        if city_part in dict_complete[year]: \n",
    "            dict_city = dict_complete[year]\n",
    "        else:\n",
    "            dict_city = {city_part:{}}\n",
    "            dict_complete[year].update(dict_city)            \n",
    "        \n",
    "        #age: set dict_age to the value of dict_city\n",
    "        #!age: change in age, add to n+1 dict\n",
    "        if age in dict_city[city_part]: \n",
    "            dict_age = dict_city[city_part]\n",
    "        else:\n",
    "            dict_age = {age:{}}\n",
    "            dict_city[city_part].update(dict_age)\n",
    "        \n",
    "        #update current age with values \n",
    "        dict_age[age].update(vals) \n",
    "                                                  \n",
    "    for key, value in dict_complete.items():  \n",
    "        print(\"->key: \" + str(key))        \n",
    "        for key2, value2 in value.items():   \n",
    "            print(\"-->key2: \" + str(key2) )\n",
    "            print(len(value2))                \n",
    "            \n",
    "provide_csv_statistics()"
   ]
  },
  {
   "cell_type": "code",
   "execution_count": null,
   "metadata": {},
   "outputs": [],
   "source": []
  }
 ],
 "metadata": {
  "kernelspec": {
   "display_name": "Python 3",
   "language": "python",
   "name": "python3"
  },
  "language_info": {
   "codemirror_mode": {
    "name": "ipython",
    "version": 3
   },
   "file_extension": ".py",
   "mimetype": "text/x-python",
   "name": "python",
   "nbconvert_exporter": "python",
   "pygments_lexer": "ipython3",
   "version": "3.7.1"
  }
 },
 "nbformat": 4,
 "nbformat_minor": 2
}
